{
 "cells": [
  {
   "cell_type": "code",
   "execution_count": 1,
   "metadata": {
    "pycharm": {
     "name": "#%%\n"
    }
   },
   "outputs": [
    {
     "name": "stdout",
     "output_type": "stream",
     "text": [
      "tf_ver: 1.15.0 gpflow_ver: 1.5.0\n",
      "avail devices:\n",
      "/device:CPU:0\n",
      "/device:XLA_CPU:0\n",
      "/device:GPU:0\n",
      "/device:XLA_GPU:0\n"
     ]
    },
    {
     "name": "stderr",
     "output_type": "stream",
     "text": [
      "Using TensorFlow backend.\n"
     ]
    }
   ],
   "source": [
    "%matplotlib inline\n",
    "# from mpl_toolkits.axes_grid1 import make_axes_locatable\n",
    "import os\n",
    "import sys\n",
    "import dpkt\n",
    "os.environ[\"CUDA_VISIBLE_DEVICES\"] = '0'  # using specific GPU\n",
    "import tensorflow as tf\n",
    "tf.compat.v1.logging.set_verbosity(tf.compat.v1.logging.ERROR)\n",
    "tf.logging.set_verbosity(tf.logging.ERROR)\n",
    "\n",
    "from compatible.likelihoods import MultiClass, Gaussian\n",
    "from compatible.kernels import RBF, White\n",
    "from gpflow.models.svgp import SVGP\n",
    "# from gpflow.training import AdamOptimizer, ScipyOptimizer\n",
    "from scipy.stats import mode\n",
    "from scipy.cluster.vq import kmeans2\n",
    "import gpflow\n",
    "from gpflow.mean_functions import Identity, Linear\n",
    "from gpflow.mean_functions import Zero\n",
    "from gpflow import autoflow, params_as_tensors, ParamList\n",
    "import pandas as pd\n",
    "import itertools\n",
    "pd.options.display.max_rows = 999\n",
    "import gpflow_monitor\n",
    "\n",
    "from scipy.cluster.vq import kmeans2\n",
    "from scipy.stats import norm\n",
    "from scipy.special import logsumexp\n",
    "from scipy.io import loadmat\n",
    "from gpflow_monitor import *\n",
    "print('tf_ver:', tf.__version__, 'gpflow_ver:', gpflow.__version__)\n",
    "from tensorflow.python.client import device_lib\n",
    "print('avail devices:\\n'+'\\n'.join([x.name for x in device_lib.list_local_devices()]))\n",
    "from jack_utils.common import time_it\n",
    "import sys\n",
    "import gpflow.training.monitor as mon\n",
    "\n",
    "# our impl\n",
    "from dgp_graph import *"
   ]
  },
  {
   "cell_type": "code",
   "execution_count": 2,
   "metadata": {
    "pycharm": {
     "name": "#%%\n"
    }
   },
   "outputs": [],
   "source": [
    "plt.rcParams['figure.dpi'] = 100\n",
    "np.random.seed(123456)"
   ]
  },
  {
   "cell_type": "markdown",
   "metadata": {
    "pycharm": {
     "name": "#%% md\n"
    }
   },
   "source": [
    "# Load data"
   ]
  },
  {
   "cell_type": "markdown",
   "metadata": {
    "pycharm": {
     "name": "#%% md\n"
    }
   },
   "source": [
    "Input filename"
   ]
  },
  {
   "cell_type": "code",
   "execution_count": 3,
   "metadata": {
    "pycharm": {
     "name": "#%%\n"
    }
   },
   "outputs": [],
   "source": [
    "filename='./data/facebook_chat_4b.pcap'"
   ]
  },
  {
   "cell_type": "code",
   "execution_count": 4,
   "metadata": {
    "pycharm": {
     "name": "#%%\n"
    }
   },
   "outputs": [],
   "source": [
    "counter=0\n",
    "last_time=0\n",
    "data_list=[]\n",
    "\n",
    "for ts, pkt in dpkt.pcap.Reader(open(filename,'rb')):\n",
    "    if last_time==0:\n",
    "        last_time=int(ts)\n",
    "    else:\n",
    "        cur_time=int(ts)\n",
    "        if cur_time==last_time:\n",
    "            counter+=1\n",
    "        else:\n",
    "            data_list.append(counter)\n",
    "            last_time=cur_time\n",
    "            counter=1\n",
    "data_list.append(counter)"
   ]
  },
  {
   "cell_type": "code",
   "execution_count": 5,
   "metadata": {
    "pycharm": {
     "name": "#%%\n"
    }
   },
   "outputs": [
    {
     "data": {
      "text/plain": [
       "[<matplotlib.lines.Line2D at 0x7f0628640d50>]"
      ]
     },
     "execution_count": 5,
     "metadata": {},
     "output_type": "execute_result"
    },
    {
     "data": {
      "image/png": "[encoded data removed]",
      "text/plain": [
       "<Figure size 600x400 with 1 Axes>"
      ]
     },
     "metadata": {
      "needs_background": "light"
     },
     "output_type": "display_data"
    }
   ],
   "source": [
    "plt.plot(data_list)"
   ]
  },
  {
   "cell_type": "markdown",
   "metadata": {
    "pycharm": {
     "name": "#%% md\n"
    }
   },
   "source": [
    "# Build data"
   ]
  },
  {
   "cell_type": "code",
   "execution_count": 6,
   "metadata": {
    "pycharm": {
     "name": "#%%\n"
    }
   },
   "outputs": [],
   "source": [
    "data_list=np.asarray(data_list)\n",
    "l=len(data_list)\n",
    "train_size=int(0.6*l)\n",
    "test_size=l-train_size"
   ]
  },
  {
   "cell_type": "code",
   "execution_count": 7,
   "metadata": {
    "pycharm": {
     "name": "#%%\n"
    }
   },
   "outputs": [],
   "source": [
    "win=5\n",
    "X_train=np.zeros((train_size-win, win))\n",
    "Y_train=np.zeros((train_size-win, 1))\n",
    "X_test=np.zeros((test_size-win, win))\n",
    "Y_test=np.zeros((test_size-win, 1))"
   ]
  },
  {
   "cell_type": "code",
   "execution_count": 8,
   "metadata": {
    "pycharm": {
     "name": "#%%\n"
    }
   },
   "outputs": [],
   "source": [
    "for i in range(train_size-win):\n",
    "    X_train[i]=data_list[i:i+win]\n",
    "    Y_train[i,0]=data_list[i+win]"
   ]
  },
  {
   "cell_type": "code",
   "execution_count": 9,
   "metadata": {
    "pycharm": {
     "name": "#%%\n"
    }
   },
   "outputs": [],
   "source": [
    "for i in range(test_size-win):\n",
    "    X_test[i]=data_list[train_size+i:train_size+i+win]\n",
    "    Y_test[i,0]=data_list[train_size+i+win]"
   ]
  },
  {
   "cell_type": "code",
   "execution_count": null,
   "metadata": {
    "pycharm": {
     "name": "#%%\n"
    }
   },
   "outputs": [],
   "source": []
  },
  {
   "cell_type": "code",
   "execution_count": 10,
   "metadata": {
    "pycharm": {
     "name": "#%%\n"
    }
   },
   "outputs": [],
   "source": [
    "def normalize_data(data, mu, std):\n",
    "    res = (data-mu) / std\n",
    "    return res\n",
    "\n",
    "def unnormalize_data(data, mu, std):\n",
    "    res = data * std + mu\n",
    "    return res"
   ]
  },
  {
   "cell_type": "code",
   "execution_count": 11,
   "metadata": {
    "pycharm": {
     "name": "#%%\n"
    }
   },
   "outputs": [],
   "source": [
    "trX0 = X_train\n",
    "trY0 = Y_train\n",
    "\n",
    "teX0 = X_test\n",
    "teY0 = Y_test"
   ]
  },
  {
   "cell_type": "code",
   "execution_count": 12,
   "metadata": {
    "pycharm": {
     "name": "#%%\n"
    }
   },
   "outputs": [],
   "source": [
    "trX0, teX0 = trX0[:, None, :], teX0[:, None, :]\n",
    "trY0, teY0 = trY0[:, None, :], teY0[:, None, :]"
   ]
  },
  {
   "cell_type": "code",
   "execution_count": 13,
   "metadata": {
    "pycharm": {
     "name": "#%%\n"
    }
   },
   "outputs": [],
   "source": [
    "mu_trX0, std_trX0 = np.mean(trX0, axis=0), np.std(trX0, axis=0)\n",
    "mu_trY0, std_trY0 = np.mean(trY0, axis=0), np.std(trY0, axis=0)\n",
    "# mu_teX0, std_teX0 = np.mean(teX0, axis=0), np.std(teX0, axis=0)\n",
    "# mu_teY0, std_teY0 = np.mean(teY0, axis=0), np.std(teY0, axis=0)"
   ]
  },
  {
   "cell_type": "code",
   "execution_count": 14,
   "metadata": {
    "pycharm": {
     "name": "#%%\n"
    }
   },
   "outputs": [],
   "source": [
    "trX = normalize_data(trX0, mu_trX0, std_trX0)\n",
    "trY = normalize_data(trY0, mu_trY0, std_trY0)\n",
    "teX = normalize_data(teX0, mu_trX0, std_trX0)\n",
    "teY = normalize_data(teY0, mu_trY0, std_trY0)"
   ]
  },
  {
   "cell_type": "code",
   "execution_count": 15,
   "metadata": {
    "pycharm": {
     "name": "#%%\n"
    }
   },
   "outputs": [],
   "source": [
    "gmat = np.eye(1)"
   ]
  },
  {
   "cell_type": "markdown",
   "metadata": {
    "pycharm": {
     "name": "#%% md\n"
    }
   },
   "source": [
    "# Data visualization"
   ]
  },
  {
   "cell_type": "code",
   "execution_count": 16,
   "metadata": {
    "pycharm": {
     "name": "#%%\n"
    }
   },
   "outputs": [],
   "source": [
    "def imshow2d(x):\n",
    "    plt.imshow(x.reshape(x.shape[0], -1))\n",
    "    plt.colorbar()"
   ]
  },
  {
   "cell_type": "code",
   "execution_count": 17,
   "metadata": {
    "pycharm": {
     "name": "#%%\n"
    }
   },
   "outputs": [
    {
     "data": {
      "image/png": "[encoded data removed]",
      "text/plain": [
       "<Figure size 600x400 with 2 Axes>"
      ]
     },
     "metadata": {
      "needs_background": "light"
     },
     "output_type": "display_data"
    }
   ],
   "source": [
    "imshow2d(trX0)"
   ]
  },
  {
   "cell_type": "code",
   "execution_count": 18,
   "metadata": {
    "pycharm": {
     "name": "#%%\n"
    }
   },
   "outputs": [
    {
     "data": {
      "image/png": "[encoded data removed]",
      "text/plain": [
       "<Figure size 600x400 with 2 Axes>"
      ]
     },
     "metadata": {
      "needs_background": "light"
     },
     "output_type": "display_data"
    }
   ],
   "source": [
    "imshow2d(trY0)"
   ]
  },
  {
   "cell_type": "code",
   "execution_count": 19,
   "metadata": {
    "pycharm": {
     "name": "#%%\n"
    }
   },
   "outputs": [
    {
     "data": {
      "image/png": "[encoded data removed]",
      "text/plain": [
       "<Figure size 600x400 with 2 Axes>"
      ]
     },
     "metadata": {
      "needs_background": "light"
     },
     "output_type": "display_data"
    }
   ],
   "source": [
    "imshow2d(teX)"
   ]
  },
  {
   "cell_type": "code",
   "execution_count": 20,
   "metadata": {
    "pycharm": {
     "name": "#%%\n"
    }
   },
   "outputs": [
    {
     "data": {
      "image/png": "[encoded data removed]",
      "text/plain": [
       "<Figure size 600x400 with 2 Axes>"
      ]
     },
     "metadata": {
      "needs_background": "light"
     },
     "output_type": "display_data"
    }
   ],
   "source": [
    "imshow2d(teY)"
   ]
  },
  {
   "cell_type": "markdown",
   "metadata": {
    "pycharm": {
     "name": "#%% md\n"
    }
   },
   "source": [
    "# Training"
   ]
  },
  {
   "cell_type": "code",
   "execution_count": 21,
   "metadata": {
    "pycharm": {
     "name": "#%%\n"
    }
   },
   "outputs": [
    {
     "name": "stdout",
     "output_type": "stream",
     "text": [
      "inducing points Z: (5, 1, 5)\n"
     ]
    }
   ],
   "source": [
    "nodes = gmat.shape[0]\n",
    "M = 5\n",
    "\n",
    "Z = np.stack([kmeans2(trX[:,i], M, minit='points')[0] for i in range(nodes)],axis=1)  # (M=s2=10, n, d_in=5)\n",
    "print('inducing points Z: {}'.format(Z.shape))"
   ]
  },
  {
   "cell_type": "code",
   "execution_count": 22,
   "metadata": {
    "pycharm": {
     "name": "#%%\n"
    }
   },
   "outputs": [],
   "source": [
    "adj = gmat.astype('float64')\n",
    "input_adj = adj # adj  / np.identity(adj.shape[0]) /  np.ones_like(adj)"
   ]
  },
  {
   "cell_type": "code",
   "execution_count": 23,
   "metadata": {
    "pycharm": {
     "name": "#%%\n"
    }
   },
   "outputs": [
    {
     "name": "stdout",
     "output_type": "stream",
     "text": [
      "input-output dim (5(agg:5)->1)\n",
      "func __init__ consumed 1.3s\n"
     ]
    }
   ],
   "source": [
    "with gpflow.defer_build():\n",
    "    m_dgpg = DGPG(trX, trY, Z, [win], Gaussian(), input_adj,\n",
    "                  agg_op_name='concat3d', ARD=True,\n",
    "                  is_Z_forward=True, mean_trainable=False, out_mf0=True,\n",
    "                  num_samples=20, minibatch_size=80,\n",
    "                  kern_type='RBF'\n",
    "                  #kern_type='Matern32'\n",
    "                 )\n",
    "    # m_sgp = SVGP(X, Y, kernels, Gaussian(), Z=Z, minibatch_size=minibatch_size, whiten=False)\n",
    "m_dgpg.compile()\n",
    "model = m_dgpg"
   ]
  },
  {
   "cell_type": "code",
   "execution_count": 24,
   "metadata": {
    "pycharm": {
     "name": "#%%\n"
    }
   },
   "outputs": [],
   "source": [
    "session = m_dgpg.enquire_session()\n",
    "optimiser = gpflow.train.AdamOptimizer(0.01)\n",
    "global_step = mon.create_global_step(session)"
   ]
  },
  {
   "cell_type": "code",
   "execution_count": 25,
   "metadata": {
    "pycharm": {
     "name": "#%%\n"
    }
   },
   "outputs": [
    {
     "name": "stdout",
     "output_type": "stream",
     "text": [
      "Tasks execution time summary:\n",
      "tensorboard:\t0.2672 (sec)\n",
      "checkpoint:\t16.7433 (sec)\n"
     ]
    }
   ],
   "source": [
    "maxiter=2000\n",
    "\n",
    "exp_path=\"./exp/tmp\"\n",
    "#exp_path=\"./exp/temp\"\n",
    "\n",
    "print_task = mon.PrintTimingsTask()\\\n",
    "    .with_name('print')\\\n",
    "    .with_condition(mon.PeriodicIterationCondition(10))\\\n",
    "\n",
    "checkpoint_task = mon.CheckpointTask(checkpoint_dir=exp_path)\\\n",
    "        .with_name('checkpoint')\\\n",
    "        .with_condition(mon.PeriodicIterationCondition(15))\\\n",
    "\n",
    "with mon.LogdirWriter(exp_path) as writer:\n",
    "    tensorboard_task = mon.ModelToTensorBoardTask(writer, model)\\\n",
    "        .with_name('tensorboard')\\\n",
    "        .with_condition(mon.PeriodicIterationCondition(100))\\\n",
    "        .with_exit_condition(True)\n",
    "    monitor_tasks = [tensorboard_task, checkpoint_task] # [print_task, tensorboard_task]\n",
    "    \n",
    "       \n",
    "    with mon.Monitor(monitor_tasks, session, global_step, print_summary=True) as monitor:\n",
    "        optimiser.minimize(model, step_callback=monitor, global_step=global_step, maxiter=maxiter)"
   ]
  },
  {
   "cell_type": "markdown",
   "metadata": {
    "pycharm": {
     "name": "#%% md\n"
    }
   },
   "source": [
    "# Results"
   ]
  },
  {
   "cell_type": "code",
   "execution_count": 26,
   "metadata": {
    "pycharm": {
     "name": "#%%\n"
    }
   },
   "outputs": [],
   "source": [
    "from jack_utils.my_metrics import *\n",
    "import matplotlib.pyplot as plt\n",
    "%matplotlib inline"
   ]
  },
  {
   "cell_type": "code",
   "execution_count": 27,
   "metadata": {
    "pycharm": {
     "name": "#%%\n"
    }
   },
   "outputs": [],
   "source": [
    "def assess_model_rmse(model, X_batch, Y_batch, S = 10):\n",
    "    m, v = model.predict_y(X_batch, S)\n",
    "    pred = np.mean(m, axis=0)\n",
    "    var = np.mean(v, axis=0)\n",
    "    loss = np.sum((Y_batch.flatten()-pred.flatten())**2)\n",
    "    return loss, pred, var\n",
    "\n",
    "def batch_assess_rmse(model, X, Y, batch_size=1, S=10):\n",
    "    n_batches = max(int(len(X)/batch_size), 1)\n",
    "    rms = len(X) - n_batches*batch_size\n",
    "    losses, preds, varis = [], [], []\n",
    "    Xr, Yr = X[-rms:, :], Y[-rms:, :]\n",
    "    for X_batch, Y_batch in zip(np.split(X[:n_batches*batch_size], n_batches), np.split(Y[:n_batches*batch_size], n_batches)):\n",
    "        l, pred, vari = assess_model_rmse(model, X_batch, Y_batch, S=S)\n",
    "        losses.append(l)\n",
    "        preds.append(pred)\n",
    "        varis.append(vari)\n",
    "    if rms > 0:\n",
    "        l, pred, vari = assess_model_rmse(model, Xr, Yr, S=S)\n",
    "        losses.append(l)        \n",
    "        preds.append(pred)\n",
    "        varis.append(vari)\n",
    "    ndata = Y.shape[0] * Y.shape[1]\n",
    "    avg_loss = np.sqrt(np.sum(losses) / ndata)\n",
    "    y_pred = np.concatenate(preds)\n",
    "    y_var = np.concatenate(varis)\n",
    "    return avg_loss, y_pred, y_var"
   ]
  },
  {
   "cell_type": "code",
   "execution_count": 28,
   "metadata": {
    "pycharm": {
     "name": "#%%\n"
    }
   },
   "outputs": [],
   "source": [
    "# make predictions of our model\n",
    "sample_X0, sample_Y0 = teX0, teY0.squeeze()\n",
    "sample_X, sample_Y = teX, teY.squeeze()"
   ]
  },
  {
   "cell_type": "code",
   "execution_count": 29,
   "metadata": {
    "pycharm": {
     "name": "#%%\n"
    }
   },
   "outputs": [
    {
     "name": "stdout",
     "output_type": "stream",
     "text": [
      "1.4626746364996814\n",
      "CPU times: user 2.01 s, sys: 81.6 ms, total: 2.09 s\n",
      "Wall time: 1.6 s\n"
     ]
    }
   ],
   "source": [
    "%%time\n",
    "pred_rmse, predY, varY = batch_assess_rmse(model, sample_X.reshape(sample_X.shape[0], -1), sample_Y.reshape(sample_Y.shape[0], -1))\n",
    "print(pred_rmse)"
   ]
  },
  {
   "cell_type": "code",
   "execution_count": 30,
   "metadata": {
    "pycharm": {
     "name": "#%%\n"
    }
   },
   "outputs": [],
   "source": [
    "predY0 = unnormalize_data(predY[:,:,None], mu_trY0, std_trY0).squeeze()"
   ]
  },
  {
   "cell_type": "code",
   "execution_count": 31,
   "metadata": {
    "pycharm": {
     "name": "#%%\n"
    }
   },
   "outputs": [
    {
     "name": "stdout",
     "output_type": "stream",
     "text": [
      "metrics:\t[mae | rmse | mape]\n",
      "ours DGP:\t [11.231, 28.742, 0.858]\n",
      "Last baseline:\t [17.419, 43.516, 3.537]\n",
      "5s mean baseline:\t [15.852, 37.469, 1.69]\n",
      "5s median baseline:\t [14.597, 36.219, 2.281]\n"
     ]
    }
   ],
   "source": [
    "# show rmse of all baselines\n",
    "metrics = [np_mae, np_rmse, np_mape]\n",
    "e_dgp = [np.round(f(predY0, sample_Y0.squeeze()), 3) for f in metrics]\n",
    "e_last = [np.round(f(sample_X0[:,:,-1], sample_Y0.squeeze()), 3) for f in metrics]\n",
    "e_ha = [np.round(f(sample_X0.mean(axis=-1), sample_Y0.squeeze()), 3) for f in metrics]\n",
    "e_mid = [np.round(f(np.median(sample_X0, axis=-1), sample_Y0.squeeze()), 3) for f in metrics]\n",
    "print('metrics:\\t[mae | rmse | mape]')\n",
    "print('ours DGP:\\t', e_dgp)\n",
    "print('Last baseline:\\t', e_last)\n",
    "print('5s mean baseline:\\t', e_ha)\n",
    "print('5s median baseline:\\t', e_mid)"
   ]
  },
  {
   "cell_type": "code",
   "execution_count": 32,
   "metadata": {
    "pycharm": {
     "name": "#%%\n"
    }
   },
   "outputs": [
    {
     "data": {
      "image/png": "[encoded data removed]",
      "text/plain": [
       "<Figure size 432x288 with 1 Axes>"
      ]
     },
     "metadata": {
      "needs_background": "light"
     },
     "output_type": "display_data"
    }
   ],
   "source": [
    "pred=predY0\n",
    "var=(varY*std_trY0).squeeze()\n",
    "\n",
    "data=data_list[train_size+win:]\n",
    "\n",
    "ks=2\n",
    "yli=0.05\n",
    "\n",
    "plt.plot(range(test_size-win), pred, label='Prediction')\n",
    "plt.plot(range(test_size-win), data, label='Ground truth')\n",
    "plt.fill_between(range(test_size-win), pred-ks*np.sqrt(var), \n",
    "                 pred+ks*np.sqrt(var),\n",
    "                 alpha=0.3)\n",
    "# plt.ylim([ymin-yli, ymax+yli])\n",
    "plt.legend()\n",
    "plt.xlabel('Time step')\n",
    "plt.ylabel('Expression level')    \n",
    "plt.show()"
   ]
  },
  {
   "cell_type": "markdown",
   "metadata": {
    "pycharm": {
     "name": "#%% md\n"
    }
   },
   "source": [
    "# Variance analysis"
   ]
  },
  {
   "cell_type": "code",
   "execution_count": 33,
   "metadata": {
    "pycharm": {
     "name": "#%%\n"
    }
   },
   "outputs": [],
   "source": [
    "std_varY0 = np.sqrt(varY)*std_trY0.reshape(1,varY.shape[1])"
   ]
  },
  {
   "cell_type": "code",
   "execution_count": 34,
   "metadata": {
    "pycharm": {
     "name": "#%%\n"
    }
   },
   "outputs": [],
   "source": [
    "def correct_rate(predY0, std_varY0, sample_Y0, ndev):\n",
    "    predY0_ub = predY0 + std_varY0*ndev\n",
    "    predY0_lb = predY0 - std_varY0*ndev\n",
    "    tf_mat = np.logical_and(predY0_lb <= sample_Y0, sample_Y0 <= predY0_ub) \n",
    "    correct_rate = np.sum(tf_mat) / np.product(tf_mat.shape)\n",
    "    return correct_rate"
   ]
  },
  {
   "cell_type": "code",
   "execution_count": 35,
   "metadata": {
    "pycharm": {
     "name": "#%%\n"
    }
   },
   "outputs": [
    {
     "data": {
      "text/plain": [
       "0.8968018209174029"
      ]
     },
     "execution_count": 35,
     "metadata": {},
     "output_type": "execute_result"
    }
   ],
   "source": [
    "correct_rate(predY0, std_varY0, sample_Y0, ndev=1)"
   ]
  },
  {
   "cell_type": "code",
   "execution_count": 36,
   "metadata": {
    "pycharm": {
     "name": "#%%\n"
    }
   },
   "outputs": [
    {
     "data": {
      "text/plain": [
       "0.9518922881061688"
      ]
     },
     "execution_count": 36,
     "metadata": {},
     "output_type": "execute_result"
    }
   ],
   "source": [
    "correct_rate(predY0, std_varY0, sample_Y0, ndev=2)"
   ]
  },
  {
   "cell_type": "code",
   "execution_count": 37,
   "metadata": {
    "pycharm": {
     "name": "#%%\n"
    }
   },
   "outputs": [
    {
     "data": {
      "text/plain": [
       "0.9751552795031055"
      ]
     },
     "execution_count": 37,
     "metadata": {},
     "output_type": "execute_result"
    }
   ],
   "source": [
    "correct_rate(predY0, std_varY0, sample_Y0, ndev=3)"
   ]
  },
  {
   "cell_type": "code",
   "execution_count": null,
   "metadata": {
    "pycharm": {
     "name": "#%%\n"
    }
   },
   "outputs": [],
   "source": []
  }
 ],
 "metadata": {
  "hide_input": false,
  "kernelspec": {
   "display_name": "Python 3",
   "language": "python",
   "name": "python3"
  },
  "language_info": {
   "codemirror_mode": {
    "name": "ipython",
    "version": 3
   },
   "file_extension": ".py",
   "mimetype": "text/x-python",
   "name": "python",
   "nbconvert_exporter": "python",
   "pygments_lexer": "ipython3",
   "version": "3.7.9"
  },
  "toc": {
   "base_numbering": 1,
   "nav_menu": {
    "height": "142px",
    "width": "301px"
   },
   "number_sections": true,
   "sideBar": true,
   "skip_h1_title": false,
   "title_cell": "Table of Contents",
   "title_sidebar": "Contents",
   "toc_cell": false,
   "toc_position": {
    "height": "calc(100% - 180px)",
    "left": "10px",
    "top": "150px",
    "width": "256px"
   },
   "toc_section_display": true,
   "toc_window_display": true
  }
 },
 "nbformat": 4,
 "nbformat_minor": 2
}